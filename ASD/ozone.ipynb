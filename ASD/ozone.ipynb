{
 "cells": [
  {
   "cell_type": "markdown",
   "metadata": {},
   "source": [
    "### AgroParisTech -- Analyse des systèmes dynamiques\n",
    "# Formation, destruction et restauration de la couche d'ozone\n",
    "Ce document présente le mécanisme de formation de l'ozone stratosphérique, sa perturbation par les chlorofluorocarbures et la relaxation vers l'état initial lorsque la perturbation cesse. Le traitement numérique du modèle est proposé en Python 3 dans l'écosystème Scipy, les paquets nécessaires étant :\n",
    "\n",
    "- Scipy library avec integrate ;\n",
    "- Numpy ;\n",
    "- Matplotlib.\n",
    "\n",
    "## Introduction\n",
    "\n",
    "Depuis les travaux de Fabry et Buisson (1913), puis de Dobson (1920), la présence d'ozone dans la stratosphère, entre 10 et 50 km d'altitude est bien établie. En 1934, les mesures de Götz montrèrent que la concentration atmosphérique est maximale aux alentours de 25 km. L'ozone absorbe la lumière ultraviolette, en particulier autour de 320 nm. Il participe ainsi à l'absorption du rayonnement solaire dans une gamme de longueurs d'onde qui n'est pas absorbée par les autres constituants de l'atmosphère. La couche d'ozone stratosphérique est donc nécessaire au maintien de la vie sur Terre : en effet, les ultraviolets ont une action délétère sur de nombreuses molécules organiques. Des épisodes d'amincissement de la couche d'ozone furent observés dès les années 1960. En 1985, Farman expliqua l'ampleur que prenait ce phénomène par la présence de composés chlorés dans l'atmosphère. Cette hypothèse fut rapidement confirmée ; l'enjeu était tel pour la survie à la surface du globe que fut signé en 1987 le protocole de Montréal qui vise à la protection de la couche d'ozone.\n",
    "Ce TD  envisage le fonctionnement de la stratosphère comme un système dynamique. Dans un premier temps, le fonctionnement en régime stationnaire est recherché : il conduit à la teneur normale en ozone. Dans un deuxième temps, le modèle sera modifié pour tenir compte de la présence des composés du chlore introduits dans l'atmosphère par l'activité humaine depuis la première moitié du XX<sup>ème</sup> siècle. Enfin, nous examinerons l'effet du protocole de Montréal, c'est-à-dire de la forte diminution de la production d'un certain nombre de produits organiques chlorés : le système dynamique « stratosphère » relaxe vers sa composition d'équilibre.\n",
    "    \n",
    "## La stratosphère n'est pas à l'équilibre thermodynamique\n",
    "\n",
    "La présence d'ozone dans la stratosphère ne peut pas s'expliquer par un équilibre chimique entre le dioxygène et l'ozone qui serait :\n",
    "$\\require{mhchem}$\n",
    "\t\\begin{align*}\n",
    "\t\t&\\ce{3 O2 <=> 2 O3}\t&K(T)\n",
    "\t\\end{align*}\n",
    " En effet, à l'altitude du maximal de concentration en ozone, soit 22,5 km au-dessus du niveau de la mer, règne une température de 214 K, de sorte que la constante thermodynamique de l'équilibre y est égale à K(214)= 1,2  10<sup>-77</sup>. La pression de dioxygène, soit le cinquième de la pression atomsphérique, valant 700 Pa, il est aisée d'évaluer la pression d'équilibre d'ozone à : 2,5 10<sup>37</sup> Pa. Cette valeur, (dont les chiffres sont sans signification physique !) est très éloignée de l'observation ; depuis les travaux de Götz, on sait que cette pression est proche de 25 mPa (la teneur en ozone est maintenant mesurée par des ballons sonde ou par des sytèmes spectroscopiques). En réalité, la stratosphère n'est pas un système isolé à l'équilibre thermodynamique. Elle est le siège de nombreuses réactions dont plusieurs requièrent de l'énergie fournie par le rayonnement solaire.\n",
    "### Rappel : le modèle de Chapman\n",
    "\n",
    "En fait, la teneur en ozone dans la stratosphère résulte du bilan de sa formation et de sa destruction par diverses réactions ; ce bilan peut aboutir à un état stationnaire de concentration, la stationnarité n'étant pas pour autant une situation d'équilibre thermodynamique. [Chapman a proposé en 1930 \"A Theory of Upper-Atmospheric Ozone\"](https://www.rmets.org/sites/default/files/chapman-memoirs.pdf \"Sydney Chapman, astronome et géophysicien britannique, 29 janvier 1888, Eccles - 19 juin 1970, Boulder, Colorado. A travaillé principalement sur la dynamique des gaz, le magnétisme terrestre et interplanétaire, et l'ionosphère.\") le premier modèle satisfaisant pour décrire ce système :\n",
    "\t\\begin{align*}\n",
    "\t\t&\\ce{O2 + hν -> 2 O}\t\t&\t& (1) \\qquad  k_1   \\text{ en }  s^{-1}\\\\\n",
    "\t\t&\\ce{O + O2 + M -> O3 + M}\t&\t& (2) \\qquad  k_2 \\text{ en }  cm^6 \\, molecule^{-2} \\, s^{-1}  \\\\\n",
    "\t\t&\\ce{O3 + hν -> O + O2}\t\t&\t& (3) \\qquad  k_3 \\text{ en }  s^{-1}\\\\\n",
    "\t\t&\\ce{O + O3  -> 2 O2}\t\t&\t& (4) \\qquad  k_4 \\text{ en }  cm^3 \\, molecule^{-1} \\, s^{-1}  \n",
    "\t\\end{align*}\n",
    "À l'acte (1), les molécules de dioxygène sont dissociées sous l'effet d'un rayonnement ultraviolet « dur », vers 180&#8239;nm. La constante cinétique $k_1$ est proportionnelle à l'intensité lumineuse dans cette région du spectre lumineux ; elle reste aussi dépendante de la température selon le loi d'Arrhénius. L'acte (2) forme l'ozone : le rapprochement d'un atome d'oxygène et d'une molécule de dioxygène conduit à une entité d'énergie interne élevée et instable. Lorsqu'une tierce molécule $\\ce{M}$ quelconque ($\\ce{N2}$, $\\ce{O2}$, $\\ce{Ar}$, etc.) peut recevoir une partie de  cette énergie interne, la formation d'ozone est possible. L'acte (2) présente donc une molécularité égale à 3. La constante $k_2$ suit la loi d'Arrhénius ; il faut remarquer l'usage de la chimie de l'atmosphère d'expliciter les concentrations en molécules par centimètre cube et non en moles par mètre cube. À l'acte (3), les molécules d'ozone reçoivent du rayonnement solaire vers 320&#8239;nm une énergie suffisante pour provoquer leur dissociation ; il faut noter que c'est ce phénomène qui explique l'absorption de cette gamme d'ultraviolets par la stratosphère et qui confère à cette couche son rôle protecteur. $k_3$ dépend de l'intensité lumineuse autour de 320&#8239;nm et de la température. À l'acte (4), l'ozone se dissocie sous l'effet du choc avec l'oxygène atomique ; $k_4$ suit la loi d'Arrhénius.\n",
    "Les concentrations d'ozone et d'oxygène atomique restent très faibles et on peut [appliquer](http://chimie.agroparistech.fr/chimie1a/solution_Chapman.html \"lien vers la résolution détaillée ; ouvre une nouvelle fenêtre (pas de Retour)\") l'approximation des états quasi stationnaires pour obtenir :\n",
    "\n",
    "\\begin{align*}\n",
    "\t\t\\ce{[O3]} = \\ce{[O2]} \\sqrt{\\frac{k_1 k_2 \\ce{[M]}}{k_3 k_4}}\n",
    "\\end{align*}\n",
    "\n",
    "## Étude du régime stationnaire en cinétique chimique classique\n",
    "En utilisant les données des fichiers **atmosphere.txt**, **constantes_photo.txt** et **arrhenius.txt**, établir le point d'équilibre pour le système «&#8239;atmosphère&#8239;» en fonction de l'altitude : on ne s'intéressera qu'à la variable «&#8239;concentration en ozone&#8239;» qui pourra être convertie en pression partielle grâce à la loi des gaz parfaits. Les colonnes dans le fichier **atmosphère.txt** sont :\n",
    "- z : altitude\n",
    "- T : température\n",
    "- N2 : $\\ce{[N2]}$\n",
    "- O2 : $\\ce{[O2]}$  \n",
    "- Ar : $\\ce{[Ar]}$ \n",
    "- HO2 : $\\ce{[HO2]}$ \n",
    "- HO : $\\ce{[HO]}$ \n",
    "- NO2 : $\\ce{[NO2]}$\n",
    "- NO : $\\ce{[NO]}$\n",
    "- ClO : $\\ce{[ClO]}$\n",
    "- Cl : $\\ce{[Cl]}$\n",
    "- CFC12 : $\\ce{[CF2Cl2]}$\n",
    "\n",
    "l'altitude est en km, le température en K et les concentrations en molecules&#8239;cm<sup>-3</sup>.\n",
    "Ce fichier comporte un ligne d'en-tête qui donne le titre des colonnes ; son contenu est facilement lu et copié dans un tableau **atm_data** par la commande :\n"
   ]
  },
  {
   "cell_type": "code",
   "execution_count": 1,
   "metadata": {},
   "outputs": [],
   "source": [
    "# -*- coding: utf-8 -*-\n",
    "# quelques chargements qui serviront dans la suite\n",
    "from scipy.optimize import fsolve  # le « solveur » Newton dans Python\n",
    "import numpy as np\n",
    "import matplotlib.pyplot as plt\n",
    "import sys\n"
   ]
  },
  {
   "cell_type": "code",
   "execution_count": 2,
   "metadata": {},
   "outputs": [],
   "source": [
    "atm_data = np.loadtxt(\"atmosphere.txt\", delimiter = \" \", skiprows = 1)"
   ]
  },
  {
   "cell_type": "markdown",
   "metadata": {},
   "source": [
    "De le même manière, on récupère toutes les constantes cinétiques qui dépendent de l'altitude, en fait du rayonnement solaire, de moins en moins intense quand on s'approche du sol. La liste des colonnes de ce fichier est dans **codes_reactions_photo.txt**"
   ]
  },
  {
   "cell_type": "code",
   "execution_count": 3,
   "metadata": {},
   "outputs": [],
   "source": [
    "cst_data= np.loadtxt(\"constantes_photo.txt\", skiprows=1, delimiter=\" \", dtype=float) # tout le fichier est mis dans un tableau numpy\n",
    "# colonnes intéressantes :\n",
    "    # 1 :  O2 -> O + O\n",
    "    # 2 O3 -> O2 + O(1D)\n",
    "    # 3 O3 -> O2 + O(3P)\n",
    "    # 83 CCl2F2 (CFC-12) -> Products\n",
    "  "
   ]
  },
  {
   "cell_type": "markdown",
   "metadata": {},
   "source": [
    "Pour les constantes qui ne correspondant pas à de photolyse, il faudra faire appel à des lois de variation de la constante cinétique avec la température **atm_data[,1]**. Il s'agit d'Arrhénius pour $k_4$ et d'une forme spéciale pour $k_2$ qui correspond à une acte termoléculaire. $k_3$ est la somme de deux valeurs car il y a en fait deux réactions suivant qu'on produit de l'oxygène atomique triplet ou singulet. \n",
    "$\\ce{[O3]}$ est calculée pour toutes les altitudes et le résultat est rangé dans **profil_O3**"
   ]
  },
  {
   "cell_type": "code",
   "execution_count": 4,
   "metadata": {},
   "outputs": [],
   "source": [
    "kB=1.380649e-23 # contante de Boltzmann\n",
    "profil_O3=[]\n",
    "i=0\n",
    "for altitude in atm_data[:,0] :\n",
    "    T = atm_data[i,1]\n",
    "    M = atm_data[i,2] + atm_data[i,3] + atm_data[i,4]\n",
    "    k1 = cst_data[i,1]  # constante apparente de l'acte 1 : dégénérée par rapport à O2 qui est constant\n",
    "    k2 = 6.0e-34*np.power(T/300.0,-2.4) # formule spéciale termoleculaire\n",
    "    k3 = cst_data[i,2] + cst_data[i,3]\n",
    "    k4 = 8.0e-12*np.exp(-2060/T) # Arrhenius classique\n",
    "    pO3=T*atm_data[i,3]*np.sqrt(k1*k2*M/k3/k4)*1.0e6*kB # pression (loi des gaz parfaits moléculaire donc kR et pas R ;le facteur 1.0e6 rend compte des centimètres cube !)\n",
    "    profil_O3.append(pO3) #stockage du profil de pression\n",
    "    i+=1"
   ]
  },
  {
   "cell_type": "code",
   "execution_count": 12,
   "metadata": {},
   "outputs": [
    {
     "data": {
      "image/png": "[encoded data removed]",
      "text/plain": [
       "<Figure size 432x288 with 1 Axes>"
      ]
     },
     "metadata": {
      "needs_background": "light"
     },
     "output_type": "display_data"
    }
   ],
   "source": [
    "plt.plot(profil_O3,atm_data[:,0])\n",
    "plt.title('pression d\\'ozone')\n",
    "plt.xlabel('pression (Pa)')\n",
    "plt.ylabel('altitude (km)')\n",
    "plt.show()"
   ]
  },
  {
   "cell_type": "code",
   "execution_count": 13,
   "metadata": {},
   "outputs": [],
   "source": [
    "import plotly.graph_objects as go\n",
    "trace = go.Scatter(\n",
    "    x = profil_O3,\n",
    "    y = atm_data[:,0],\n",
    "   )\n",
    "data = [trace]\n",
    "\n",
    "\n",
    "layout = go.Layout(\n",
    "        title=go.layout.Title(text=\"Profil d'ozone\"),\n",
    "        xaxis_title=\"pression d'ozone (Pa)\",\n",
    "        yaxis_title=\"altitude (km)\",\n",
    "    )\n",
    "\n",
    "\n",
    "fig = go.Figure(data, layout)\n"
   ]
  },
  {
   "cell_type": "markdown",
   "metadata": {},
   "source": [
    "## Yapuka : ASD si on introduit des substances (CFC) qui provoquent la destruction de l'ozone"
   ]
  },
  {
   "cell_type": "code",
   "execution_count": 14,
   "metadata": {},
   "outputs": [
    {
     "data": {
      "application/vnd.plotly.v1+json": {
       "config": {
        "plotlyServerURL": "https://plot.ly"
       },
       "data": [
        {
         "type": "scatter",
         "x": [
          0,
          0,
          0,
          0,
          0,
          0,
          0,
          0,
          0,
          0,
          0,
          0,
          0,
          0,
          0,
          0,
          0,
          0,
          0,
          0,
          3.726705047869263e-08,
          5.092803078102328e-08,
          0.0016806606280265716,
          0.002683712646182246,
          0.0037342753795025063,
          0.005150355901919649,
          0.0066306243210678,
          0.008390578476812523,
          0.010305068232473099,
          0.012421978139813264,
          0.014659936139245192,
          0.017083925216621013,
          0.019641698506139678,
          0.022249155078248595,
          0.025000218408275876,
          0.02769011676191852,
          0.03048195887882398,
          0.03318563495422075,
          0.035837515319571,
          0.03841617780073073,
          0.040719016719146635,
          0.0429519815333975,
          0.04477306561881979,
          0.046458557323084626,
          0.047678741534376026,
          0.048727453276322365,
          0.04927611215875331,
          0.04964487140263854,
          0.04954689530543722,
          0.04927619112657922,
          0.04863704268724704,
          0.047657510526718065,
          0.04650364432238492,
          0.04513984461152448,
          0.04350794039382528,
          0.04171987841288275,
          0.039700989460116395,
          0.037630410748857424,
          0.03550244822751033,
          0.03329414979924778,
          0.031088528211293612,
          0.028928040796288763,
          0.02678194950501817,
          0.02471960847584484,
          0.022754595019132195,
          0.020888714848943585,
          0.019046347291477014,
          0.017313055093076964,
          0.015628801152345374,
          0.014071402863684067,
          0.012591528574266899,
          0.011249124976903961,
          0.010000262730157644,
          0.008864661716018464,
          0.00783870700674097,
          0.006919676050682656,
          0.0060823935870788284,
          0.005334303291334785,
          0.004669219164527868,
          0.004080172643724021,
          0.003563091514519227,
          0.0031064040731325782,
          0.0027081336141143632,
          0.0023630630789741053,
          0.002060942428182062,
          0.0018010403832788143,
          0.0015776965523578257,
          0.0013839097650426,
          0.0012184436170775395,
          0.001078463399930138,
          0.0009588724633295104,
          0.0008565931529331737,
          0.0007690990292061505,
          0.0006951233570205119,
          0.0006313426111743702,
          0.0005761425629358615,
          0.0005275525364536902,
          0.0004853501801902734,
          0.00044864896749609594,
          0.0004160085162614786,
          0.0003044551875559842
         ],
         "y": [
          0,
          0.5,
          1,
          1.5,
          2,
          2.5,
          3,
          3.5,
          4,
          4.5,
          5,
          5.5,
          6,
          6.5,
          7,
          7.5,
          8,
          8.5,
          9,
          9.5,
          10,
          10.5,
          11,
          11.5,
          12,
          12.5,
          13,
          13.5,
          14,
          14.5,
          15,
          15.5,
          16,
          16.5,
          17,
          17.5,
          18,
          18.5,
          19,
          19.5,
          20,
          20.5,
          21,
          21.5,
          22,
          22.5,
          23,
          23.5,
          24,
          24.5,
          25,
          25.5,
          26,
          26.5,
          27,
          27.5,
          28,
          28.5,
          29,
          29.5,
          30,
          30.5,
          31,
          31.5,
          32,
          32.5,
          33,
          33.5,
          34,
          34.5,
          35,
          35.5,
          36,
          36.5,
          37,
          37.5,
          38,
          38.5,
          39,
          39.5,
          40,
          40.5,
          41,
          41.5,
          42,
          42.5,
          43,
          43.5,
          44,
          44.5,
          45,
          45.5,
          46,
          46.5,
          47,
          47.5,
          48,
          48.5,
          49,
          49.5,
          50
         ]
        }
       ],
       "layout": {
        "template": {
         "data": {
          "bar": [
           {
            "error_x": {
             "color": "#2a3f5f"
            },
            "error_y": {
             "color": "#2a3f5f"
            },
            "marker": {
             "line": {
              "color": "#E5ECF6",
              "width": 0.5
             }
            },
            "type": "bar"
           }
          ],
          "barpolar": [
           {
            "marker": {
             "line": {
              "color": "#E5ECF6",
              "width": 0.5
             }
            },
            "type": "barpolar"
           }
          ],
          "carpet": [
           {
            "aaxis": {
             "endlinecolor": "#2a3f5f",
             "gridcolor": "white",
             "linecolor": "white",
             "minorgridcolor": "white",
             "startlinecolor": "#2a3f5f"
            },
            "baxis": {
             "endlinecolor": "#2a3f5f",
             "gridcolor": "white",
             "linecolor": "white",
             "minorgridcolor": "white",
             "startlinecolor": "#2a3f5f"
            },
            "type": "carpet"
           }
          ],
          "choropleth": [
           {
            "colorbar": {
             "outlinewidth": 0,
             "ticks": ""
            },
            "type": "choropleth"
           }
          ],
          "contour": [
           {
            "colorbar": {
             "outlinewidth": 0,
             "ticks": ""
            },
            "colorscale": [
             [
              0,
              "#0d0887"
             ],
             [
              0.1111111111111111,
              "#46039f"
             ],
             [
              0.2222222222222222,
              "#7201a8"
             ],
             [
              0.3333333333333333,
              "#9c179e"
             ],
             [
              0.4444444444444444,
              "#bd3786"
             ],
             [
              0.5555555555555556,
              "#d8576b"
             ],
             [
              0.6666666666666666,
              "#ed7953"
             ],
             [
              0.7777777777777778,
              "#fb9f3a"
             ],
             [
              0.8888888888888888,
              "#fdca26"
             ],
             [
              1,
              "#f0f921"
             ]
            ],
            "type": "contour"
           }
          ],
          "contourcarpet": [
           {
            "colorbar": {
             "outlinewidth": 0,
             "ticks": ""
            },
            "type": "contourcarpet"
           }
          ],
          "heatmap": [
           {
            "colorbar": {
             "outlinewidth": 0,
             "ticks": ""
            },
            "colorscale": [
             [
              0,
              "#0d0887"
             ],
             [
              0.1111111111111111,
              "#46039f"
             ],
             [
              0.2222222222222222,
              "#7201a8"
             ],
             [
              0.3333333333333333,
              "#9c179e"
             ],
             [
              0.4444444444444444,
              "#bd3786"
             ],
             [
              0.5555555555555556,
              "#d8576b"
             ],
             [
              0.6666666666666666,
              "#ed7953"
             ],
             [
              0.7777777777777778,
              "#fb9f3a"
             ],
             [
              0.8888888888888888,
              "#fdca26"
             ],
             [
              1,
              "#f0f921"
             ]
            ],
            "type": "heatmap"
           }
          ],
          "heatmapgl": [
           {
            "colorbar": {
             "outlinewidth": 0,
             "ticks": ""
            },
            "colorscale": [
             [
              0,
              "#0d0887"
             ],
             [
              0.1111111111111111,
              "#46039f"
             ],
             [
              0.2222222222222222,
              "#7201a8"
             ],
             [
              0.3333333333333333,
              "#9c179e"
             ],
             [
              0.4444444444444444,
              "#bd3786"
             ],
             [
              0.5555555555555556,
              "#d8576b"
             ],
             [
              0.6666666666666666,
              "#ed7953"
             ],
             [
              0.7777777777777778,
              "#fb9f3a"
             ],
             [
              0.8888888888888888,
              "#fdca26"
             ],
             [
              1,
              "#f0f921"
             ]
            ],
            "type": "heatmapgl"
           }
          ],
          "histogram": [
           {
            "marker": {
             "colorbar": {
              "outlinewidth": 0,
              "ticks": ""
             }
            },
            "type": "histogram"
           }
          ],
          "histogram2d": [
           {
            "colorbar": {
             "outlinewidth": 0,
             "ticks": ""
            },
            "colorscale": [
             [
              0,
              "#0d0887"
             ],
             [
              0.1111111111111111,
              "#46039f"
             ],
             [
              0.2222222222222222,
              "#7201a8"
             ],
             [
              0.3333333333333333,
              "#9c179e"
             ],
             [
              0.4444444444444444,
              "#bd3786"
             ],
             [
              0.5555555555555556,
              "#d8576b"
             ],
             [
              0.6666666666666666,
              "#ed7953"
             ],
             [
              0.7777777777777778,
              "#fb9f3a"
             ],
             [
              0.8888888888888888,
              "#fdca26"
             ],
             [
              1,
              "#f0f921"
             ]
            ],
            "type": "histogram2d"
           }
          ],
          "histogram2dcontour": [
           {
            "colorbar": {
             "outlinewidth": 0,
             "ticks": ""
            },
            "colorscale": [
             [
              0,
              "#0d0887"
             ],
             [
              0.1111111111111111,
              "#46039f"
             ],
             [
              0.2222222222222222,
              "#7201a8"
             ],
             [
              0.3333333333333333,
              "#9c179e"
             ],
             [
              0.4444444444444444,
              "#bd3786"
             ],
             [
              0.5555555555555556,
              "#d8576b"
             ],
             [
              0.6666666666666666,
              "#ed7953"
             ],
             [
              0.7777777777777778,
              "#fb9f3a"
             ],
             [
              0.8888888888888888,
              "#fdca26"
             ],
             [
              1,
              "#f0f921"
             ]
            ],
            "type": "histogram2dcontour"
           }
          ],
          "mesh3d": [
           {
            "colorbar": {
             "outlinewidth": 0,
             "ticks": ""
            },
            "type": "mesh3d"
           }
          ],
          "parcoords": [
           {
            "line": {
             "colorbar": {
              "outlinewidth": 0,
              "ticks": ""
             }
            },
            "type": "parcoords"
           }
          ],
          "pie": [
           {
            "automargin": true,
            "type": "pie"
           }
          ],
          "scatter": [
           {
            "marker": {
             "colorbar": {
              "outlinewidth": 0,
              "ticks": ""
             }
            },
            "type": "scatter"
           }
          ],
          "scatter3d": [
           {
            "line": {
             "colorbar": {
              "outlinewidth": 0,
              "ticks": ""
             }
            },
            "marker": {
             "colorbar": {
              "outlinewidth": 0,
              "ticks": ""
             }
            },
            "type": "scatter3d"
           }
          ],
          "scattercarpet": [
           {
            "marker": {
             "colorbar": {
              "outlinewidth": 0,
              "ticks": ""
             }
            },
            "type": "scattercarpet"
           }
          ],
          "scattergeo": [
           {
            "marker": {
             "colorbar": {
              "outlinewidth": 0,
              "ticks": ""
             }
            },
            "type": "scattergeo"
           }
          ],
          "scattergl": [
           {
            "marker": {
             "colorbar": {
              "outlinewidth": 0,
              "ticks": ""
             }
            },
            "type": "scattergl"
           }
          ],
          "scattermapbox": [
           {
            "marker": {
             "colorbar": {
              "outlinewidth": 0,
              "ticks": ""
             }
            },
            "type": "scattermapbox"
           }
          ],
          "scatterpolar": [
           {
            "marker": {
             "colorbar": {
              "outlinewidth": 0,
              "ticks": ""
             }
            },
            "type": "scatterpolar"
           }
          ],
          "scatterpolargl": [
           {
            "marker": {
             "colorbar": {
              "outlinewidth": 0,
              "ticks": ""
             }
            },
            "type": "scatterpolargl"
           }
          ],
          "scatterternary": [
           {
            "marker": {
             "colorbar": {
              "outlinewidth": 0,
              "ticks": ""
             }
            },
            "type": "scatterternary"
           }
          ],
          "surface": [
           {
            "colorbar": {
             "outlinewidth": 0,
             "ticks": ""
            },
            "colorscale": [
             [
              0,
              "#0d0887"
             ],
             [
              0.1111111111111111,
              "#46039f"
             ],
             [
              0.2222222222222222,
              "#7201a8"
             ],
             [
              0.3333333333333333,
              "#9c179e"
             ],
             [
              0.4444444444444444,
              "#bd3786"
             ],
             [
              0.5555555555555556,
              "#d8576b"
             ],
             [
              0.6666666666666666,
              "#ed7953"
             ],
             [
              0.7777777777777778,
              "#fb9f3a"
             ],
             [
              0.8888888888888888,
              "#fdca26"
             ],
             [
              1,
              "#f0f921"
             ]
            ],
            "type": "surface"
           }
          ],
          "table": [
           {
            "cells": {
             "fill": {
              "color": "#EBF0F8"
             },
             "line": {
              "color": "white"
             }
            },
            "header": {
             "fill": {
              "color": "#C8D4E3"
             },
             "line": {
              "color": "white"
             }
            },
            "type": "table"
           }
          ]
         },
         "layout": {
          "annotationdefaults": {
           "arrowcolor": "#2a3f5f",
           "arrowhead": 0,
           "arrowwidth": 1
          },
          "coloraxis": {
           "colorbar": {
            "outlinewidth": 0,
            "ticks": ""
           }
          },
          "colorscale": {
           "diverging": [
            [
             0,
             "#8e0152"
            ],
            [
             0.1,
             "#c51b7d"
            ],
            [
             0.2,
             "#de77ae"
            ],
            [
             0.3,
             "#f1b6da"
            ],
            [
             0.4,
             "#fde0ef"
            ],
            [
             0.5,
             "#f7f7f7"
            ],
            [
             0.6,
             "#e6f5d0"
            ],
            [
             0.7,
             "#b8e186"
            ],
            [
             0.8,
             "#7fbc41"
            ],
            [
             0.9,
             "#4d9221"
            ],
            [
             1,
             "#276419"
            ]
           ],
           "sequential": [
            [
             0,
             "#0d0887"
            ],
            [
             0.1111111111111111,
             "#46039f"
            ],
            [
             0.2222222222222222,
             "#7201a8"
            ],
            [
             0.3333333333333333,
             "#9c179e"
            ],
            [
             0.4444444444444444,
             "#bd3786"
            ],
            [
             0.5555555555555556,
             "#d8576b"
            ],
            [
             0.6666666666666666,
             "#ed7953"
            ],
            [
             0.7777777777777778,
             "#fb9f3a"
            ],
            [
             0.8888888888888888,
             "#fdca26"
            ],
            [
             1,
             "#f0f921"
            ]
           ],
           "sequentialminus": [
            [
             0,
             "#0d0887"
            ],
            [
             0.1111111111111111,
             "#46039f"
            ],
            [
             0.2222222222222222,
             "#7201a8"
            ],
            [
             0.3333333333333333,
             "#9c179e"
            ],
            [
             0.4444444444444444,
             "#bd3786"
            ],
            [
             0.5555555555555556,
             "#d8576b"
            ],
            [
             0.6666666666666666,
             "#ed7953"
            ],
            [
             0.7777777777777778,
             "#fb9f3a"
            ],
            [
             0.8888888888888888,
             "#fdca26"
            ],
            [
             1,
             "#f0f921"
            ]
           ]
          },
          "colorway": [
           "#636efa",
           "#EF553B",
           "#00cc96",
           "#ab63fa",
           "#FFA15A",
           "#19d3f3",
           "#FF6692",
           "#B6E880",
           "#FF97FF",
           "#FECB52"
          ],
          "font": {
           "color": "#2a3f5f"
          },
          "geo": {
           "bgcolor": "white",
           "lakecolor": "white",
           "landcolor": "#E5ECF6",
           "showlakes": true,
           "showland": true,
           "subunitcolor": "white"
          },
          "hoverlabel": {
           "align": "left"
          },
          "hovermode": "closest",
          "mapbox": {
           "style": "light"
          },
          "paper_bgcolor": "white",
          "plot_bgcolor": "#E5ECF6",
          "polar": {
           "angularaxis": {
            "gridcolor": "white",
            "linecolor": "white",
            "ticks": ""
           },
           "bgcolor": "#E5ECF6",
           "radialaxis": {
            "gridcolor": "white",
            "linecolor": "white",
            "ticks": ""
           }
          },
          "scene": {
           "xaxis": {
            "backgroundcolor": "#E5ECF6",
            "gridcolor": "white",
            "gridwidth": 2,
            "linecolor": "white",
            "showbackground": true,
            "ticks": "",
            "zerolinecolor": "white"
           },
           "yaxis": {
            "backgroundcolor": "#E5ECF6",
            "gridcolor": "white",
            "gridwidth": 2,
            "linecolor": "white",
            "showbackground": true,
            "ticks": "",
            "zerolinecolor": "white"
           },
           "zaxis": {
            "backgroundcolor": "#E5ECF6",
            "gridcolor": "white",
            "gridwidth": 2,
            "linecolor": "white",
            "showbackground": true,
            "ticks": "",
            "zerolinecolor": "white"
           }
          },
          "shapedefaults": {
           "line": {
            "color": "#2a3f5f"
           }
          },
          "ternary": {
           "aaxis": {
            "gridcolor": "white",
            "linecolor": "white",
            "ticks": ""
           },
           "baxis": {
            "gridcolor": "white",
            "linecolor": "white",
            "ticks": ""
           },
           "bgcolor": "#E5ECF6",
           "caxis": {
            "gridcolor": "white",
            "linecolor": "white",
            "ticks": ""
           }
          },
          "title": {
           "x": 0.05
          },
          "xaxis": {
           "automargin": true,
           "gridcolor": "white",
           "linecolor": "white",
           "ticks": "",
           "title": {
            "standoff": 15
           },
           "zerolinecolor": "white",
           "zerolinewidth": 2
          },
          "yaxis": {
           "automargin": true,
           "gridcolor": "white",
           "linecolor": "white",
           "ticks": "",
           "title": {
            "standoff": 15
           },
           "zerolinecolor": "white",
           "zerolinewidth": 2
          }
         }
        },
        "title": {
         "text": "Profil d'ozone"
        },
        "xaxis": {
         "title": {
          "text": "pression d'ozone (Pa)"
         }
        },
        "yaxis": {
         "title": {
          "text": "altitude (km)"
         }
        }
       }
      },
      "text/html": [
       "<div>\n",
       "        \n",
       "        \n",
       "            <div id=\"7531b1bc-ea2f-45e9-8e3c-da54de77f233\" class=\"plotly-graph-div\" style=\"height:525px; width:100%;\"></div>\n",
       "            <script type=\"text/javascript\">\n",
       "                require([\"plotly\"], function(Plotly) {\n",
       "                    window.PLOTLYENV=window.PLOTLYENV || {};\n",
       "                    \n",
       "                if (document.getElementById(\"7531b1bc-ea2f-45e9-8e3c-da54de77f233\")) {\n",
       "                    Plotly.newPlot(\n",
       "                        '7531b1bc-ea2f-45e9-8e3c-da54de77f233',\n",
       "                        [{\"type\": \"scatter\", \"x\": [0.0, 0.0, 0.0, 0.0, 0.0, 0.0, 0.0, 0.0, 0.0, 0.0, 0.0, 0.0, 0.0, 0.0, 0.0, 0.0, 0.0, 0.0, 0.0, 0.0, 3.726705047869263e-08, 5.092803078102328e-08, 0.0016806606280265716, 0.002683712646182246, 0.0037342753795025063, 0.005150355901919649, 0.0066306243210678, 0.008390578476812523, 0.010305068232473099, 0.012421978139813264, 0.014659936139245192, 0.017083925216621013, 0.019641698506139678, 0.022249155078248595, 0.025000218408275876, 0.02769011676191852, 0.03048195887882398, 0.03318563495422075, 0.035837515319571, 0.03841617780073073, 0.040719016719146635, 0.0429519815333975, 0.04477306561881979, 0.046458557323084626, 0.047678741534376026, 0.048727453276322365, 0.04927611215875331, 0.04964487140263854, 0.04954689530543722, 0.04927619112657922, 0.04863704268724704, 0.047657510526718065, 0.04650364432238492, 0.04513984461152448, 0.04350794039382528, 0.04171987841288275, 0.039700989460116395, 0.037630410748857424, 0.03550244822751033, 0.03329414979924778, 0.031088528211293612, 0.028928040796288763, 0.02678194950501817, 0.02471960847584484, 0.022754595019132195, 0.020888714848943585, 0.019046347291477014, 0.017313055093076964, 0.015628801152345374, 0.014071402863684067, 0.012591528574266899, 0.011249124976903961, 0.010000262730157644, 0.008864661716018464, 0.00783870700674097, 0.006919676050682656, 0.0060823935870788284, 0.005334303291334785, 0.004669219164527868, 0.004080172643724021, 0.003563091514519227, 0.0031064040731325782, 0.0027081336141143632, 0.0023630630789741053, 0.002060942428182062, 0.0018010403832788143, 0.0015776965523578257, 0.0013839097650426, 0.0012184436170775395, 0.001078463399930138, 0.0009588724633295104, 0.0008565931529331737, 0.0007690990292061505, 0.0006951233570205119, 0.0006313426111743702, 0.0005761425629358615, 0.0005275525364536902, 0.0004853501801902734, 0.00044864896749609594, 0.0004160085162614786, 0.0003044551875559842], \"y\": [0.0, 0.5, 1.0, 1.5, 2.0, 2.5, 3.0, 3.5, 4.0, 4.5, 5.0, 5.5, 6.0, 6.5, 7.0, 7.5, 8.0, 8.5, 9.0, 9.5, 10.0, 10.5, 11.0, 11.5, 12.0, 12.5, 13.0, 13.5, 14.0, 14.5, 15.0, 15.5, 16.0, 16.5, 17.0, 17.5, 18.0, 18.5, 19.0, 19.5, 20.0, 20.5, 21.0, 21.5, 22.0, 22.5, 23.0, 23.5, 24.0, 24.5, 25.0, 25.5, 26.0, 26.5, 27.0, 27.5, 28.0, 28.5, 29.0, 29.5, 30.0, 30.5, 31.0, 31.5, 32.0, 32.5, 33.0, 33.5, 34.0, 34.5, 35.0, 35.5, 36.0, 36.5, 37.0, 37.5, 38.0, 38.5, 39.0, 39.5, 40.0, 40.5, 41.0, 41.5, 42.0, 42.5, 43.0, 43.5, 44.0, 44.5, 45.0, 45.5, 46.0, 46.5, 47.0, 47.5, 48.0, 48.5, 49.0, 49.5, 50.0]}],\n",
       "                        {\"template\": {\"data\": {\"bar\": [{\"error_x\": {\"color\": \"#2a3f5f\"}, \"error_y\": {\"color\": \"#2a3f5f\"}, \"marker\": {\"line\": {\"color\": \"#E5ECF6\", \"width\": 0.5}}, \"type\": \"bar\"}], \"barpolar\": [{\"marker\": {\"line\": {\"color\": \"#E5ECF6\", \"width\": 0.5}}, \"type\": \"barpolar\"}], \"carpet\": [{\"aaxis\": {\"endlinecolor\": \"#2a3f5f\", \"gridcolor\": \"white\", \"linecolor\": \"white\", \"minorgridcolor\": \"white\", \"startlinecolor\": \"#2a3f5f\"}, \"baxis\": {\"endlinecolor\": \"#2a3f5f\", \"gridcolor\": \"white\", \"linecolor\": \"white\", \"minorgridcolor\": \"white\", \"startlinecolor\": \"#2a3f5f\"}, \"type\": \"carpet\"}], \"choropleth\": [{\"colorbar\": {\"outlinewidth\": 0, \"ticks\": \"\"}, \"type\": \"choropleth\"}], \"contour\": [{\"colorbar\": {\"outlinewidth\": 0, \"ticks\": \"\"}, \"colorscale\": [[0.0, \"#0d0887\"], [0.1111111111111111, \"#46039f\"], [0.2222222222222222, \"#7201a8\"], [0.3333333333333333, \"#9c179e\"], [0.4444444444444444, \"#bd3786\"], [0.5555555555555556, \"#d8576b\"], [0.6666666666666666, \"#ed7953\"], [0.7777777777777778, \"#fb9f3a\"], [0.8888888888888888, \"#fdca26\"], [1.0, \"#f0f921\"]], \"type\": \"contour\"}], \"contourcarpet\": [{\"colorbar\": {\"outlinewidth\": 0, \"ticks\": \"\"}, \"type\": \"contourcarpet\"}], \"heatmap\": [{\"colorbar\": {\"outlinewidth\": 0, \"ticks\": \"\"}, \"colorscale\": [[0.0, \"#0d0887\"], [0.1111111111111111, \"#46039f\"], [0.2222222222222222, \"#7201a8\"], [0.3333333333333333, \"#9c179e\"], [0.4444444444444444, \"#bd3786\"], [0.5555555555555556, \"#d8576b\"], [0.6666666666666666, \"#ed7953\"], [0.7777777777777778, \"#fb9f3a\"], [0.8888888888888888, \"#fdca26\"], [1.0, \"#f0f921\"]], \"type\": \"heatmap\"}], \"heatmapgl\": [{\"colorbar\": {\"outlinewidth\": 0, \"ticks\": \"\"}, \"colorscale\": [[0.0, \"#0d0887\"], [0.1111111111111111, \"#46039f\"], [0.2222222222222222, \"#7201a8\"], [0.3333333333333333, \"#9c179e\"], [0.4444444444444444, \"#bd3786\"], [0.5555555555555556, \"#d8576b\"], [0.6666666666666666, \"#ed7953\"], [0.7777777777777778, \"#fb9f3a\"], [0.8888888888888888, \"#fdca26\"], [1.0, \"#f0f921\"]], \"type\": \"heatmapgl\"}], \"histogram\": [{\"marker\": {\"colorbar\": {\"outlinewidth\": 0, \"ticks\": \"\"}}, \"type\": \"histogram\"}], \"histogram2d\": [{\"colorbar\": {\"outlinewidth\": 0, \"ticks\": \"\"}, \"colorscale\": [[0.0, \"#0d0887\"], [0.1111111111111111, \"#46039f\"], [0.2222222222222222, \"#7201a8\"], [0.3333333333333333, \"#9c179e\"], [0.4444444444444444, \"#bd3786\"], [0.5555555555555556, \"#d8576b\"], [0.6666666666666666, \"#ed7953\"], [0.7777777777777778, \"#fb9f3a\"], [0.8888888888888888, \"#fdca26\"], [1.0, \"#f0f921\"]], \"type\": \"histogram2d\"}], \"histogram2dcontour\": [{\"colorbar\": {\"outlinewidth\": 0, \"ticks\": \"\"}, \"colorscale\": [[0.0, \"#0d0887\"], [0.1111111111111111, \"#46039f\"], [0.2222222222222222, \"#7201a8\"], [0.3333333333333333, \"#9c179e\"], [0.4444444444444444, \"#bd3786\"], [0.5555555555555556, \"#d8576b\"], [0.6666666666666666, \"#ed7953\"], [0.7777777777777778, \"#fb9f3a\"], [0.8888888888888888, \"#fdca26\"], [1.0, \"#f0f921\"]], \"type\": \"histogram2dcontour\"}], \"mesh3d\": [{\"colorbar\": {\"outlinewidth\": 0, \"ticks\": \"\"}, \"type\": \"mesh3d\"}], \"parcoords\": [{\"line\": {\"colorbar\": {\"outlinewidth\": 0, \"ticks\": \"\"}}, \"type\": \"parcoords\"}], \"pie\": [{\"automargin\": true, \"type\": \"pie\"}], \"scatter\": [{\"marker\": {\"colorbar\": {\"outlinewidth\": 0, \"ticks\": \"\"}}, \"type\": \"scatter\"}], \"scatter3d\": [{\"line\": {\"colorbar\": {\"outlinewidth\": 0, \"ticks\": \"\"}}, \"marker\": {\"colorbar\": {\"outlinewidth\": 0, \"ticks\": \"\"}}, \"type\": \"scatter3d\"}], \"scattercarpet\": [{\"marker\": {\"colorbar\": {\"outlinewidth\": 0, \"ticks\": \"\"}}, \"type\": \"scattercarpet\"}], \"scattergeo\": [{\"marker\": {\"colorbar\": {\"outlinewidth\": 0, \"ticks\": \"\"}}, \"type\": \"scattergeo\"}], \"scattergl\": [{\"marker\": {\"colorbar\": {\"outlinewidth\": 0, \"ticks\": \"\"}}, \"type\": \"scattergl\"}], \"scattermapbox\": [{\"marker\": {\"colorbar\": {\"outlinewidth\": 0, \"ticks\": \"\"}}, \"type\": \"scattermapbox\"}], \"scatterpolar\": [{\"marker\": {\"colorbar\": {\"outlinewidth\": 0, \"ticks\": \"\"}}, \"type\": \"scatterpolar\"}], \"scatterpolargl\": [{\"marker\": {\"colorbar\": {\"outlinewidth\": 0, \"ticks\": \"\"}}, \"type\": \"scatterpolargl\"}], \"scatterternary\": [{\"marker\": {\"colorbar\": {\"outlinewidth\": 0, \"ticks\": \"\"}}, \"type\": \"scatterternary\"}], \"surface\": [{\"colorbar\": {\"outlinewidth\": 0, \"ticks\": \"\"}, \"colorscale\": [[0.0, \"#0d0887\"], [0.1111111111111111, \"#46039f\"], [0.2222222222222222, \"#7201a8\"], [0.3333333333333333, \"#9c179e\"], [0.4444444444444444, \"#bd3786\"], [0.5555555555555556, \"#d8576b\"], [0.6666666666666666, \"#ed7953\"], [0.7777777777777778, \"#fb9f3a\"], [0.8888888888888888, \"#fdca26\"], [1.0, \"#f0f921\"]], \"type\": \"surface\"}], \"table\": [{\"cells\": {\"fill\": {\"color\": \"#EBF0F8\"}, \"line\": {\"color\": \"white\"}}, \"header\": {\"fill\": {\"color\": \"#C8D4E3\"}, \"line\": {\"color\": \"white\"}}, \"type\": \"table\"}]}, \"layout\": {\"annotationdefaults\": {\"arrowcolor\": \"#2a3f5f\", \"arrowhead\": 0, \"arrowwidth\": 1}, \"coloraxis\": {\"colorbar\": {\"outlinewidth\": 0, \"ticks\": \"\"}}, \"colorscale\": {\"diverging\": [[0, \"#8e0152\"], [0.1, \"#c51b7d\"], [0.2, \"#de77ae\"], [0.3, \"#f1b6da\"], [0.4, \"#fde0ef\"], [0.5, \"#f7f7f7\"], [0.6, \"#e6f5d0\"], [0.7, \"#b8e186\"], [0.8, \"#7fbc41\"], [0.9, \"#4d9221\"], [1, \"#276419\"]], \"sequential\": [[0.0, \"#0d0887\"], [0.1111111111111111, \"#46039f\"], [0.2222222222222222, \"#7201a8\"], [0.3333333333333333, \"#9c179e\"], [0.4444444444444444, \"#bd3786\"], [0.5555555555555556, \"#d8576b\"], [0.6666666666666666, \"#ed7953\"], [0.7777777777777778, \"#fb9f3a\"], [0.8888888888888888, \"#fdca26\"], [1.0, \"#f0f921\"]], \"sequentialminus\": [[0.0, \"#0d0887\"], [0.1111111111111111, \"#46039f\"], [0.2222222222222222, \"#7201a8\"], [0.3333333333333333, \"#9c179e\"], [0.4444444444444444, \"#bd3786\"], [0.5555555555555556, \"#d8576b\"], [0.6666666666666666, \"#ed7953\"], [0.7777777777777778, \"#fb9f3a\"], [0.8888888888888888, \"#fdca26\"], [1.0, \"#f0f921\"]]}, \"colorway\": [\"#636efa\", \"#EF553B\", \"#00cc96\", \"#ab63fa\", \"#FFA15A\", \"#19d3f3\", \"#FF6692\", \"#B6E880\", \"#FF97FF\", \"#FECB52\"], \"font\": {\"color\": \"#2a3f5f\"}, \"geo\": {\"bgcolor\": \"white\", \"lakecolor\": \"white\", \"landcolor\": \"#E5ECF6\", \"showlakes\": true, \"showland\": true, \"subunitcolor\": \"white\"}, \"hoverlabel\": {\"align\": \"left\"}, \"hovermode\": \"closest\", \"mapbox\": {\"style\": \"light\"}, \"paper_bgcolor\": \"white\", \"plot_bgcolor\": \"#E5ECF6\", \"polar\": {\"angularaxis\": {\"gridcolor\": \"white\", \"linecolor\": \"white\", \"ticks\": \"\"}, \"bgcolor\": \"#E5ECF6\", \"radialaxis\": {\"gridcolor\": \"white\", \"linecolor\": \"white\", \"ticks\": \"\"}}, \"scene\": {\"xaxis\": {\"backgroundcolor\": \"#E5ECF6\", \"gridcolor\": \"white\", \"gridwidth\": 2, \"linecolor\": \"white\", \"showbackground\": true, \"ticks\": \"\", \"zerolinecolor\": \"white\"}, \"yaxis\": {\"backgroundcolor\": \"#E5ECF6\", \"gridcolor\": \"white\", \"gridwidth\": 2, \"linecolor\": \"white\", \"showbackground\": true, \"ticks\": \"\", \"zerolinecolor\": \"white\"}, \"zaxis\": {\"backgroundcolor\": \"#E5ECF6\", \"gridcolor\": \"white\", \"gridwidth\": 2, \"linecolor\": \"white\", \"showbackground\": true, \"ticks\": \"\", \"zerolinecolor\": \"white\"}}, \"shapedefaults\": {\"line\": {\"color\": \"#2a3f5f\"}}, \"ternary\": {\"aaxis\": {\"gridcolor\": \"white\", \"linecolor\": \"white\", \"ticks\": \"\"}, \"baxis\": {\"gridcolor\": \"white\", \"linecolor\": \"white\", \"ticks\": \"\"}, \"bgcolor\": \"#E5ECF6\", \"caxis\": {\"gridcolor\": \"white\", \"linecolor\": \"white\", \"ticks\": \"\"}}, \"title\": {\"x\": 0.05}, \"xaxis\": {\"automargin\": true, \"gridcolor\": \"white\", \"linecolor\": \"white\", \"ticks\": \"\", \"title\": {\"standoff\": 15}, \"zerolinecolor\": \"white\", \"zerolinewidth\": 2}, \"yaxis\": {\"automargin\": true, \"gridcolor\": \"white\", \"linecolor\": \"white\", \"ticks\": \"\", \"title\": {\"standoff\": 15}, \"zerolinecolor\": \"white\", \"zerolinewidth\": 2}}}, \"title\": {\"text\": \"Profil d'ozone\"}, \"xaxis\": {\"title\": {\"text\": \"pression d'ozone (Pa)\"}}, \"yaxis\": {\"title\": {\"text\": \"altitude (km)\"}}},\n",
       "                        {\"responsive\": true}\n",
       "                    ).then(function(){\n",
       "                            \n",
       "var gd = document.getElementById('7531b1bc-ea2f-45e9-8e3c-da54de77f233');\n",
       "var x = new MutationObserver(function (mutations, observer) {{\n",
       "        var display = window.getComputedStyle(gd).display;\n",
       "        if (!display || display === 'none') {{\n",
       "            console.log([gd, 'removed!']);\n",
       "            Plotly.purge(gd);\n",
       "            observer.disconnect();\n",
       "        }}\n",
       "}});\n",
       "\n",
       "// Listen for the removal of the full notebook cells\n",
       "var notebookContainer = gd.closest('#notebook-container');\n",
       "if (notebookContainer) {{\n",
       "    x.observe(notebookContainer, {childList: true});\n",
       "}}\n",
       "\n",
       "// Listen for the clearing of the current output cell\n",
       "var outputEl = gd.closest('.output');\n",
       "if (outputEl) {{\n",
       "    x.observe(outputEl, {childList: true});\n",
       "}}\n",
       "\n",
       "                        })\n",
       "                };\n",
       "                });\n",
       "            </script>\n",
       "        </div>"
      ]
     },
     "metadata": {},
     "output_type": "display_data"
    }
   ],
   "source": [
    "fig.show()"
   ]
  },
  {
   "cell_type": "code",
   "execution_count": null,
   "metadata": {},
   "outputs": [],
   "source": []
  }
 ],
 "metadata": {
  "celltoolbar": "Aucun(e)",
  "kernelspec": {
   "display_name": "Python 3",
   "language": "python",
   "name": "python3"
  },
  "language_info": {
   "codemirror_mode": {
    "name": "ipython",
    "version": 3
   },
   "file_extension": ".py",
   "mimetype": "text/x-python",
   "name": "python",
   "nbconvert_exporter": "python",
   "pygments_lexer": "ipython3",
   "version": "3.7.3"
  }
 },
 "nbformat": 4,
 "nbformat_minor": 2
}
